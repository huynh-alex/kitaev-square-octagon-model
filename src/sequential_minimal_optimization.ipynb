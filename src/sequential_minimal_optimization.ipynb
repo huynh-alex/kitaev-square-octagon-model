{
 "cells": [
  {
   "cell_type": "code",
   "execution_count": null,
   "id": "ce4ee1f1",
   "metadata": {},
   "outputs": [],
   "source": [
    "import qiskit\n",
    "from qiskit import QuantumCircuit, BasicAer, Aer, transpile, execute\n",
    "import qiskit.providers.aer.library\n",
    "from qiskit.quantum_info import random_statevector\n",
    "from qiskit.utils import algorithm_globals, QuantumInstance\n",
    "from qiskit.opflow import I, X, Y, Z, expectations\n",
    "from qiskit.algorithms.optimizers import ADAM\n",
    "from qiskit.circuit import ParameterVector\n",
    "from qiskit.algorithms import VQE\n",
    "\n",
    "from matplotlib import pyplot as plt\n",
    "import matplotlib.cm as cm\n",
    "import matplotlib as mpl\n",
    "\n",
    "from random import random\n",
    "import numpy as np\n",
    "from statistics import mean\n",
    "from scipy.optimize import minimize\n",
    "from tqdm import tqdm\n",
    "import itertools\n",
    "import copy\n",
    "from time import time"
   ]
  },
  {
   "cell_type": "code",
   "execution_count": null,
   "id": "9ac74273",
   "metadata": {},
   "outputs": [],
   "source": [
    "def add_layers(circuit, params):\n",
    "    \n",
    "    for p in range(0, len(params), 3):\n",
    "        \n",
    "        beta = params[p]\n",
    "        theta = params[p + 1]\n",
    "        gamma = params[p + 2]\n",
    "        \n",
    "        circuit.rxx(beta,14,15)\n",
    "        circuit.rxx(beta,6,7)\n",
    "        circuit.rxx(beta,0,8)\n",
    "        circuit.rxx(beta,1,9)\n",
    "        circuit.rxx(beta,13,5)\n",
    "        circuit.rxx(beta,12,4)\n",
    "        circuit.rxx(beta,3,2)\n",
    "        circuit.rxx(beta,11,10)\n",
    "        circuit.barrier()\n",
    "        circuit.ryy(theta,15,7)\n",
    "        circuit.ryy(theta,14,6)\n",
    "        circuit.ryy(theta,8,9)\n",
    "        circuit.ryy(theta,0,1)\n",
    "        circuit.ryy(theta,5,4)\n",
    "        circuit.ryy(theta,13,2)\n",
    "        circuit.ryy(theta,2,10)\n",
    "        circuit.ryy(theta,3,11)\n",
    "        circuit.barrier()\n",
    "        circuit.rzz(gamma,15,12)\n",
    "        circuit.rzz(gamma,6,5)\n",
    "        circuit.rzz(gamma,1,2)\n",
    "        circuit.rzz(gamma,8,11)\n",
    "        circuit.barrier()\n",
    "        circuit.rzz(gamma,7,0)\n",
    "        circuit.rzz(gamma,9,14)\n",
    "        circuit.rzz(gamma,3,4)\n",
    "        circuit.rzz(gamma,10,13)\n",
    "        circuit.barrier()\n",
    "        \n",
    "    return circuit"
   ]
  },
  {
   "cell_type": "code",
   "execution_count": null,
   "id": "54a72958",
   "metadata": {},
   "outputs": [],
   "source": [
    "def create_circuit(num_qubits, params):\n",
    "    \n",
    "    circuit = QuantumCircuit(num_qubits)\n",
    "    \n",
    "    #initialize state\n",
    "    for i in range(0, num_qubits):\n",
    "        circuit.h(i)\n",
    "    circuit.barrier()\n",
    "    \n",
    "    add_layers(circuit, params)\n",
    "    \n",
    "    return circuit\n",
    "\n",
    "def create_random_param(depth):\n",
    "    \n",
    "    params = []\n",
    "    for _ in range(depth * 3):\n",
    "        params.append(random() * 2 * np.pi)\n",
    "        \n",
    "    return params"
   ]
  },
  {
   "cell_type": "code",
   "execution_count": 167,
   "id": "0615328e",
   "metadata": {},
   "outputs": [],
   "source": [
    "\"\"\"Here we define the cost function\"\"\"\n",
    "\n",
    "def xx_expectation_value(counts, shots): \n",
    "    def bitstring(string):\n",
    "        energy = 0\n",
    "        energy -= (1 if string[14] == string[15] else -1)\n",
    "        energy -= (1 if string[6] == string[7] else -1)\n",
    "        energy -= (1 if string[0] == string[8] else -1)\n",
    "        energy -= (1 if string[1] == string[9] else -1)\n",
    "        energy -= (1 if string[13] == string[5] else -1)\n",
    "        energy -= (1 if string[12] == string[4] else -1)\n",
    "        energy -= (1 if string[3] == string[2] else -1)\n",
    "        energy -= (1 if string[11] == string[10] else -1)\n",
    "        return energy\n",
    "    \n",
    "    energy = 0\n",
    "    for k,v in counts.items():\n",
    "        energy += bitstring(k) * (v / shots)\n",
    "    return energy\n",
    "\n",
    "def yy_expectation_value(counts, shots):\n",
    "    def bitstring(string):\n",
    "        energy = 0\n",
    "        energy -= (1 if string[15] == string[7] else -1)\n",
    "        energy -= (1 if string[14] == string[6] else -1)\n",
    "        energy -= (1 if string[8] == string[9] else -1)\n",
    "        energy -= (1 if string[0] == string[1] else -1)\n",
    "        energy -= (1 if string[5] == string[4] else -1)\n",
    "        energy -= (1 if string[13] == string[2] else -1)\n",
    "        energy -= (1 if string[2] == string[10] else -1)\n",
    "        energy -= (1 if string[3] == string[11] else -1)\n",
    "        return energy\n",
    "    \n",
    "    energy = 0\n",
    "    for k,v in counts.items():\n",
    "        energy += bitstring(k) * (v / shots)\n",
    "    return energy\n",
    "\n",
    "def zz_expectation_value(counts, shots):\n",
    "    def bitstring(string):\n",
    "        energy = 0\n",
    "        energy -= (1 if string[15] == string[12] else -1)\n",
    "        energy -= (1 if string[6] == string[5] else -1)\n",
    "        energy -= (1 if string[1] == string[2] else -1)\n",
    "        energy -= (1 if string[8] == string[11] else -1)\n",
    "        energy -= (1 if string[7] == string[0] else -1)\n",
    "        energy -= (1 if string[9] == string[14] else -1)\n",
    "        energy -= (1 if string[3] == string[4] else -1)\n",
    "        energy -= (1 if string[10] == string[13] else -1)\n",
    "        return energy\n",
    "    \n",
    "    energy = 0\n",
    "    for k,v in counts.items():\n",
    "        energy += bitstring(k) * (v / shots)\n",
    "    return energy\n",
    "\n",
    "def cost_function(params):\n",
    "\n",
    "    num_qubits = 16\n",
    "    shots = 16384\n",
    "    backend = Aer.get_backend('qasm_simulator')\n",
    "\n",
    "    # Z basis measurement\n",
    "    circuit = create_circuit(num_qubits, params)  \n",
    "    circuit.measure_all()\n",
    "    job = execute(circuit, backend, shots = shots)\n",
    "    result = job.result()\n",
    "    counts = result.get_counts(circuit)\n",
    "    zz_exp = zz_expectation_value(counts, shots)\n",
    "\n",
    "    # X basis measurement\n",
    "    circuit = create_circuit(num_qubits, params)  \n",
    "    for i in range(num_qubits):\n",
    "        circuit.h(i)\n",
    "    circuit.measure_all()\n",
    "    job = execute(circuit, backend, shots = shots)\n",
    "    result = job.result()\n",
    "    counts = result.get_counts(circuit)\n",
    "    xx_exp = xx_expectation_value(counts, shots)\n",
    "    \n",
    "    # Y Basis measurement\n",
    "    circuit = create_circuit(num_qubits, params)\n",
    "    for i in range(num_qubits):\n",
    "        circuit.sdg(i)\n",
    "        circuit.h(i)\n",
    "    circuit.measure_all()\n",
    "    job = execute(circuit, backend, shots = shots)\n",
    "    result = job.result()\n",
    "    counts = result.get_counts(circuit)\n",
    "    yy_exp = yy_expectation_value(counts, shots)\n",
    "\n",
    "    return (zz_exp + xx_exp + yy_exp) * -1\n",
    "\n",
    "\"\"\"Find the energy of the shifted parameter using our cost function\"\"\"\n",
    "def find_shifted_energy(index, shift, params):\n",
    "    params_clone = copy.deepcopy(params)\n",
    "    params_clone[index] = params[index] + shift\n",
    "    shifted_energy = cost_function(params_clone)\n",
    "    return shifted_energy"
   ]
  },
  {
   "cell_type": "code",
   "execution_count": 168,
   "id": "9414232c",
   "metadata": {},
   "outputs": [],
   "source": [
    "\"\"\"Find the coefficients for the newly defined cost function\"\"\"\n",
    "def find_coefficient_vector(params,index):\n",
    "    S = 8 #how many times this parameter appears in the circuit\n",
    "    angle_shifts = (2*np.pi / (2*S+1)) * np.arange(2*S+1) #set of angles from 0 to 2*pi to shift by (2*S+1 cuts)\n",
    "    shifted_energies = np.zeros(2*S+1)\n",
    "    for i in tqdm(range(len(angle_shifts))):\n",
    "        shifted_energies[i] = find_shifted_energy(index, angle_shifts[i], params)  \n",
    "    coefficient_vector = np.fft.rfft(shifted_energies)\n",
    "    return coefficient_vector\n",
    "\n",
    "\"\"\"New cost function is defined as L\"\"\"\n",
    "def array_cost_function(index, angle_array, params):\n",
    "    coeffs = find_coefficient_vector(params, index)\n",
    "    energy_array = np.zeros(len(angle_array)) + coeffs[0]\n",
    "    for i in range(len(coeffs)-1):\n",
    "        energy_array += 2 * np.real(coeffs[i + 1] * np.exp(1j * (i + 1) * (angle_array)))\n",
    "    energy_array /= 2 * len(coeffs) - 1\n",
    "    return energy_array\n",
    "\n",
    "def single_cost_function(parameter, coeffs):\n",
    "    energy = float(coeffs[0])\n",
    "    for i in range(len(coeffs)-1):\n",
    "        energy += 2 * np.real(coeffs[i+1] * np.exp(1j * (i+1) * parameter))\n",
    "    energy /= 2 * len(coeffs) - 1\n",
    "    return float(energy)\n",
    "\n",
    "def update(params, index, coeffs):\n",
    "    parameter = params[index]\n",
    "    result = minimize(single_cost_function, parameter, args=(coeffs), method = 'L-BFGS-B')\n",
    "    updated_params=copy.deepcopy(params)\n",
    "    updated_params[index] = result['x']\n",
    "    updated_energy = result['fun']\n",
    "    return updated_params, updated_energy"
   ]
  },
  {
   "cell_type": "code",
   "execution_count": 169,
   "id": "a8ed13e9",
   "metadata": {
    "scrolled": true
   },
   "outputs": [
    {
     "name": "stdout",
     "output_type": "stream",
     "text": [
      "On loop #1\n"
     ]
    },
    {
     "name": "stderr",
     "output_type": "stream",
     "text": [
      "100%|██████████| 17/17 [00:11<00:00,  1.50it/s]\n",
      "<ipython-input-168-d935c4ebef84>:21: ComplexWarning: Casting complex values to real discards the imaginary part\n",
      "  energy = float(coeffs[0])\n"
     ]
    },
    {
     "name": "stdout",
     "output_type": "stream",
     "text": [
      "params:  [1.00548935 0.         0.        ]\n"
     ]
    },
    {
     "name": "stderr",
     "output_type": "stream",
     "text": [
      "\r",
      "  0%|          | 0/17 [00:00<?, ?it/s]"
     ]
    },
    {
     "name": "stdout",
     "output_type": "stream",
     "text": [
      "energy:  8.019775390625\n",
      "time elapsed:  12.681723356246948\n"
     ]
    },
    {
     "name": "stderr",
     "output_type": "stream",
     "text": [
      "100%|██████████| 17/17 [00:11<00:00,  1.49it/s]\n"
     ]
    },
    {
     "name": "stdout",
     "output_type": "stream",
     "text": [
      "params:  [1.00548935 3.14494661 0.        ]\n"
     ]
    },
    {
     "name": "stderr",
     "output_type": "stream",
     "text": [
      "\r",
      "  0%|          | 0/17 [00:00<?, ?it/s]"
     ]
    },
    {
     "name": "stdout",
     "output_type": "stream",
     "text": [
      "energy:  3.9644775390625\n",
      "time elapsed:  24.748424291610718\n"
     ]
    },
    {
     "name": "stderr",
     "output_type": "stream",
     "text": [
      "100%|██████████| 17/17 [00:11<00:00,  1.50it/s]\n"
     ]
    },
    {
     "name": "stdout",
     "output_type": "stream",
     "text": [
      "params:  [ 1.00548935  3.14494661 -4.72382967]\n",
      "energy:  0.03515625\n",
      "time elapsed:  36.76800036430359\n",
      "On loop #2\n"
     ]
    },
    {
     "name": "stderr",
     "output_type": "stream",
     "text": [
      "100%|██████████| 17/17 [00:11<00:00,  1.50it/s]\n"
     ]
    },
    {
     "name": "stdout",
     "output_type": "stream",
     "text": [
      "params:  [ 0.99921632  3.14494661 -4.72382967]\n"
     ]
    },
    {
     "name": "stderr",
     "output_type": "stream",
     "text": [
      "\r",
      "  0%|          | 0/17 [00:00<?, ?it/s]"
     ]
    },
    {
     "name": "stdout",
     "output_type": "stream",
     "text": [
      "energy:  0.0628662109375\n",
      "time elapsed:  49.48849534988403\n"
     ]
    },
    {
     "name": "stderr",
     "output_type": "stream",
     "text": [
      "100%|██████████| 17/17 [00:11<00:00,  1.47it/s]\n"
     ]
    },
    {
     "name": "stdout",
     "output_type": "stream",
     "text": [
      "params:  [ 0.99921632  4.16972564 -4.72382967]\n"
     ]
    },
    {
     "name": "stderr",
     "output_type": "stream",
     "text": [
      "\r",
      "  0%|          | 0/17 [00:00<?, ?it/s]"
     ]
    },
    {
     "name": "stdout",
     "output_type": "stream",
     "text": [
      "energy:  0.0389404296875\n",
      "time elapsed:  61.800235986709595\n"
     ]
    },
    {
     "name": "stderr",
     "output_type": "stream",
     "text": [
      "100%|██████████| 17/17 [00:11<00:00,  1.46it/s]\n"
     ]
    },
    {
     "name": "stdout",
     "output_type": "stream",
     "text": [
      "params:  [ 0.99921632  4.16972564 -0.02955108]\n",
      "energy:  4.986328125\n",
      "time elapsed:  74.10702204704285\n"
     ]
    }
   ],
   "source": [
    "DEPTH = 1\n",
    "MAX_RUNS = 2\n",
    "\n",
    "energy_array = []\n",
    "error = 1000 #some arbitrary large number to meet loop condition\n",
    "num_runs = 0\n",
    "params=np.zeros(DEPTH*3)\n",
    "\n",
    "start_time = time()\n",
    "while error > 5e-4 and num_runs < MAX_RUNS:\n",
    "    num_runs += 1\n",
    "    print(\"On loop #\" + str(num_runs))\n",
    "    \n",
    "    for i in range(len(params)):\n",
    "        if i == 0:\n",
    "            energy = cost_function(params)\n",
    "        index = i\n",
    "        coeffs = find_coefficient_vector(params, index)\n",
    "        params, energy = update(params, index, coeffs)\n",
    "        energy_array.append(energy)\n",
    "        print(\"params: \", params)\n",
    "        print(\"energy: \", cost_function(params))\n",
    "#         error = energy_array[-1] - exact\n",
    "#         print(\"error: \", error)\n",
    "        print(\"Time elapsed: \", time() - start_time)"
   ]
  },
  {
   "cell_type": "code",
   "execution_count": null,
   "id": "109497a3",
   "metadata": {},
   "outputs": [],
   "source": []
  }
 ],
 "metadata": {
  "kernelspec": {
   "display_name": "Python 3",
   "language": "python",
   "name": "python3"
  },
  "language_info": {
   "codemirror_mode": {
    "name": "ipython",
    "version": 3
   },
   "file_extension": ".py",
   "mimetype": "text/x-python",
   "name": "python",
   "nbconvert_exporter": "python",
   "pygments_lexer": "ipython3",
   "version": "3.9.4"
  }
 },
 "nbformat": 4,
 "nbformat_minor": 5
}
